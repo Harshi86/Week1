{
  "nbformat": 4,
  "nbformat_minor": 0,
  "metadata": {
    "colab": {
      "provenance": [],
      "toc_visible": true,
      "authorship_tag": "ABX9TyPFe4jlK8MSMfAht0bCWTmk",
      "include_colab_link": true
    },
    "kernelspec": {
      "name": "python3",
      "display_name": "Python 3"
    },
    "language_info": {
      "name": "python"
    }
  },
  "cells": [
    {
      "cell_type": "markdown",
      "metadata": {
        "id": "view-in-github",
        "colab_type": "text"
      },
      "source": [
        "<a href=\"https://colab.research.google.com/github/Harshi86/Week1/blob/main/Untitled1.ipynb\" target=\"_parent\"><img src=\"https://colab.research.google.com/assets/colab-badge.svg\" alt=\"Open In Colab\"/></a>"
      ]
    },
    {
      "cell_type": "code",
      "execution_count": null,
      "metadata": {
        "colab": {
          "base_uri": "https://localhost:8080/"
        },
        "id": "CqT9S-GHt5Ko",
        "outputId": "79bfa39f-a16e-40ae-9b31-79455dee8017"
      },
      "outputs": [
        {
          "output_type": "stream",
          "name": "stdout",
          "text": [
            "Path to dataset files: /kaggle/input/tree-species-identification-dataset\n"
          ]
        }
      ],
      "source": [
        "\n",
        "import kagglehub\n",
        "\n",
        "# Download latest version\n",
        "path = kagglehub.dataset_download(\"viditgandhi/tree-species-identification-dataset\")\n",
        "\n",
        "print(\"Path to dataset files:\", path)"
      ]
    },
    {
      "cell_type": "code",
      "source": [
        "import shutil\n",
        "\n",
        "# Define the source path (where the dataset is downloaded)\n",
        "source_path = '/kaggle/input/tree-species-identification-dataset'\n",
        "\n",
        "# Define the destination path (replace with your desired path)\n",
        "destination_path = '/content/tree-species-dataset'\n",
        "\n",
        "# Use shutil.copytree() to copy the directory\n",
        "try:\n",
        "    shutil.copytree(source_path, destination_path)\n",
        "    print(f\"Dataset copied successfully from {source_path} to {destination_path}\")\n",
        "except shutil.Error as e:\n",
        "    print(f\"Error copying dataset: {e}\")\n",
        "except FileNotFoundError:\n",
        "    print(f\"Source directory not found: {source_path}\")\n",
        "except FileExistsError:\n",
        "    print(f\"Destination directory already exists: {destination_path}\")"
      ],
      "metadata": {
        "colab": {
          "base_uri": "https://localhost:8080/"
        },
        "id": "L6BLgK0DuKiA",
        "outputId": "7a94c297-6d2b-47ae-abfa-a8b95f17b87c"
      },
      "execution_count": null,
      "outputs": [
        {
          "output_type": "stream",
          "name": "stdout",
          "text": [
            "Dataset copied successfully from /kaggle/input/tree-species-identification-dataset to /content/tree-species-dataset\n"
          ]
        }
      ]
    },
    {
      "cell_type": "markdown",
      "metadata": {
        "id": "4f87d7ea"
      },
      "source": [
        "# Task\n",
        "Upload the file \"https://www.kaggle.com/datasets/mexwell/heart-disease-dataset/download?datasetVersionNumber=1\" to a new GitHub repository."
      ]
    },
    {
      "cell_type": "markdown",
      "metadata": {
        "id": "43c969c9"
      },
      "source": [
        "## Create a github repository\n",
        "\n",
        "### Subtask:\n",
        "Create a new repository on GitHub to store the dataset.\n"
      ]
    },
    {
      "cell_type": "markdown",
      "metadata": {
        "id": "23910586"
      },
      "source": [
        "## Summary:\n",
        "\n",
        "### Data Analysis Key Findings\n",
        "\n",
        "* The creation of a GitHub repository was attempted but could not be completed within the current environment.\n",
        "\n",
        "### Insights or Next Steps\n",
        "\n",
        "* The task failed because the necessary action of creating a GitHub repository is not supported in the current environment.\n",
        "* To successfully complete the task, an environment or method that allows for the creation of GitHub repositories is required.\n"
      ]
    }
  ]
}